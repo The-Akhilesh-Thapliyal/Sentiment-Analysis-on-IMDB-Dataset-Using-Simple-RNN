{
 "cells": [
  {
   "cell_type": "markdown",
   "metadata": {},
   "source": [
    "## Sentiment Prediction on IMDB Movie Reviews\n",
    "\n",
    "This notebook demonstrates how to load a pre-trained Simple RNN model to predict the sentiment of movie reviews from the IMDB dataset. I have also added custom functions to enhance the usability of the model and provide detailed explanations of each step.\n",
    "\n",
    "### 1. Import Libraries and Load the Model\n",
    "\n",
    "First, we import the necessary libraries and load the pre-trained model. This model was trained on the IMDB dataset to classify movie reviews as either positive or negative."
   ]
  },
  {
   "cell_type": "code",
   "execution_count": 1,
   "metadata": {},
   "outputs": [
    {
     "name": "stdout",
     "output_type": "stream",
     "text": [
      "WARNING:tensorflow:From d:\\Project\\RNN\\venv\\Lib\\site-packages\\keras\\src\\losses.py:2976: The name tf.losses.sparse_softmax_cross_entropy is deprecated. Please use tf.compat.v1.losses.sparse_softmax_cross_entropy instead.\n",
      "\n"
     ]
    }
   ],
   "source": [
    "import numpy as np\n",
    "import tensorflow as tf\n",
    "from tensorflow.keras.datasets import imdb\n",
    "from tensorflow.keras.preprocessing import sequence\n",
    "from tensorflow.keras.models import load_model"
   ]
  },
  {
   "cell_type": "markdown",
   "metadata": {},
   "source": [
    "We then load the IMDB dataset's word index to help decode the reviews and understand the model's predictions."
   ]
  },
  {
   "cell_type": "code",
   "execution_count": 2,
   "metadata": {},
   "outputs": [],
   "source": [
    "# Load the IMDB dataset word index\n",
    "word_index = imdb.get_word_index()\n",
    "reverse_word_index = {value: key for key, value in word_index.items()}"
   ]
  },
  {
   "cell_type": "markdown",
   "metadata": {},
   "source": [
    "Next, we load the pre-trained model, which uses ReLU activation in its Simple RNN layers."
   ]
  },
  {
   "cell_type": "code",
   "execution_count": 3,
   "metadata": {},
   "outputs": [
    {
     "name": "stdout",
     "output_type": "stream",
     "text": [
      "WARNING:tensorflow:From d:\\Project\\RNN\\venv\\Lib\\site-packages\\keras\\src\\backend.py:1398: The name tf.executing_eagerly_outside_functions is deprecated. Please use tf.compat.v1.executing_eagerly_outside_functions instead.\n",
      "\n",
      "Model: \"sequential\"\n",
      "_________________________________________________________________\n",
      " Layer (type)                Output Shape              Param #   \n",
      "=================================================================\n",
      " embedding (Embedding)       (None, 500, 128)          1280000   \n",
      "                                                                 \n",
      " simple_rnn (SimpleRNN)      (None, 500, 128)          32896     \n",
      "                                                                 \n",
      " dropout (Dropout)           (None, 500, 128)          0         \n",
      "                                                                 \n",
      " simple_rnn_1 (SimpleRNN)    (None, 64)                12352     \n",
      "                                                                 \n",
      " dense (Dense)               (None, 1)                 65        \n",
      "                                                                 \n",
      "=================================================================\n",
      "Total params: 1325313 (5.06 MB)\n",
      "Trainable params: 1325313 (5.06 MB)\n",
      "Non-trainable params: 0 (0.00 Byte)\n",
      "_________________________________________________________________\n"
     ]
    }
   ],
   "source": [
    "# Load the pre-trained model\n",
    "model = load_model('model.h5')\n",
    "model.summary()"
   ]
  },
  {
   "cell_type": "markdown",
   "metadata": {},
   "source": [
    "To inspect the model's inner workings, we print out the model's weights."
   ]
  },
  {
   "cell_type": "code",
   "execution_count": 4,
   "metadata": {},
   "outputs": [
    {
     "data": {
      "text/plain": [
       "[array([[-0.01785068,  0.01257522, -0.01849201, ...,  0.02737954,\n",
       "         -0.01658337, -0.03896516],\n",
       "        [ 0.02769358,  0.00831363, -0.00283951, ...,  0.03523619,\n",
       "         -0.0181964 , -0.12319023],\n",
       "        [ 0.04864456,  0.04688917, -0.01911613, ..., -0.0015069 ,\n",
       "         -0.06152027, -0.12863229],\n",
       "        ...,\n",
       "        [ 0.0210665 ,  0.00178189,  0.0389583 , ...,  0.04459306,\n",
       "          0.03170855,  0.10278009],\n",
       "        [-0.0106249 , -0.01080296, -0.04215729, ..., -0.02182666,\n",
       "         -0.01483092, -0.08489985],\n",
       "        [ 0.07182481, -0.0186534 , -0.0415456 , ..., -0.08701115,\n",
       "          0.04192985, -0.03757128]], dtype=float32),\n",
       " array([[ 0.06201936, -0.10811633,  0.00183683, ...,  0.11658924,\n",
       "         -0.23910615, -0.0692889 ],\n",
       "        [ 0.01075747,  0.02303515, -0.00803249, ...,  0.04664249,\n",
       "         -0.04821857, -0.03791673],\n",
       "        [-0.04392743, -0.04314497,  0.04237111, ...,  0.068992  ,\n",
       "          0.10616311, -0.1198985 ],\n",
       "        ...,\n",
       "        [-0.14973275, -0.03107561, -0.05107551, ..., -0.11274671,\n",
       "         -0.1145071 ,  0.04371511],\n",
       "        [-0.09180058,  0.13146156, -0.00224516, ..., -0.16133656,\n",
       "         -0.03628362,  0.05461679],\n",
       "        [ 0.11041361,  0.04015161,  0.10684565, ...,  0.10631569,\n",
       "          0.06681285,  0.11851866]], dtype=float32),\n",
       " array([[ 1.01109566e-02, -4.36721258e-02, -4.50397842e-02, ...,\n",
       "         -3.15450616e-02, -7.77791860e-03, -1.02752328e-01],\n",
       "        [ 6.28993809e-02,  1.08615600e-01,  1.79227397e-01, ...,\n",
       "          2.59439051e-02, -1.27446363e-02, -7.18358010e-02],\n",
       "        [-1.01489779e-02, -4.18574773e-02,  7.53693795e-03, ...,\n",
       "         -1.26807228e-01, -1.06205486e-01,  5.12997508e-02],\n",
       "        ...,\n",
       "        [-8.83442983e-02, -1.25256285e-01, -9.20622721e-02, ...,\n",
       "         -4.57247198e-02, -8.42749476e-02,  5.79097345e-02],\n",
       "        [ 6.19293377e-02, -1.15601920e-01, -3.18181328e-02, ...,\n",
       "          1.00786038e-01, -1.51742265e-01,  4.34599593e-02],\n",
       "        [ 5.64318821e-02,  1.88697353e-01,  2.12868586e-01, ...,\n",
       "          3.46626230e-02, -1.32748508e-04,  5.66222444e-02]], dtype=float32),\n",
       " array([-0.04195343, -0.02137513, -0.01795035, -0.00179278, -0.05474404,\n",
       "        -0.06604381, -0.04759791, -0.03032743, -0.01498463, -0.05461503,\n",
       "         0.06111603, -0.08804198,  0.0029292 , -0.05459839, -0.05569034,\n",
       "        -0.00477762, -0.04816289, -0.05578339, -0.09851884, -0.0252916 ,\n",
       "        -0.06469788,  0.00276647,  0.00405524, -0.00696922, -0.04544133,\n",
       "        -0.01735227, -0.03193726, -0.03379571, -0.06743568, -0.03137532,\n",
       "         0.00899171, -0.03906319, -0.05452413, -0.01951453, -0.04895955,\n",
       "        -0.02300905, -0.0282845 , -0.00657962,  0.03589391, -0.04666593,\n",
       "        -0.04153004, -0.00179828, -0.03852233, -0.06017933, -0.03490628,\n",
       "        -0.0393565 , -0.01531364, -0.0561239 , -0.04555699, -0.00159426,\n",
       "        -0.03406236, -0.02986664, -0.050953  , -0.04682368, -0.06451347,\n",
       "        -0.0607604 , -0.00439223, -0.0405272 , -0.02381025,  0.0108471 ,\n",
       "        -0.00648235, -0.05709223,  0.01294683, -0.07971647, -0.05472592,\n",
       "        -0.0523954 , -0.006618  , -0.04860037,  0.0508895 , -0.05137776,\n",
       "        -0.03126322, -0.03949597, -0.07037467, -0.03096681,  0.0135836 ,\n",
       "        -0.0610443 , -0.05643503, -0.0613661 , -0.00356244, -0.01001235,\n",
       "        -0.06147239, -0.0118598 , -0.06998292, -0.02189074, -0.00097462,\n",
       "        -0.05395485, -0.04616385, -0.07183153, -0.07742499, -0.05319727,\n",
       "        -0.0334285 , -0.04451278, -0.03925656, -0.07434284, -0.06008335,\n",
       "        -0.02349317, -0.07151229,  0.00237301, -0.04840527, -0.07130881,\n",
       "        -0.0524506 , -0.01726846, -0.00513089, -0.058438  , -0.04476601,\n",
       "        -0.0390356 , -0.01296596,  0.02046659, -0.01415846,  0.00331613,\n",
       "        -0.04690291, -0.0413435 , -0.06634584, -0.04322695, -0.05763028,\n",
       "        -0.00712414, -0.05168808, -0.06063166, -0.05178703, -0.06692239,\n",
       "        -0.04873299, -0.05921035, -0.05634791, -0.02898364, -0.00171346,\n",
       "        -0.02476501,  0.00325355, -0.00292053], dtype=float32),\n",
       " array([[-0.05725252,  0.15777962, -0.06730746, ...,  0.0815075 ,\n",
       "         -0.001611  ,  0.0703053 ],\n",
       "        [-0.0330871 , -0.04306313,  0.0605927 , ..., -0.03439547,\n",
       "         -0.04173402,  0.01721415],\n",
       "        [-0.02363684,  0.13014546, -0.06114305, ..., -0.06034899,\n",
       "         -0.07518105, -0.09241425],\n",
       "        ...,\n",
       "        [ 0.19056374, -0.19035979, -0.02753827, ...,  0.00127943,\n",
       "         -0.15467626,  0.223678  ],\n",
       "        [ 0.17832075,  0.09162162, -0.07435235, ...,  0.17811961,\n",
       "         -0.08463201,  0.11177877],\n",
       "        [-0.13353696,  0.15598056, -0.0877298 , ..., -0.00792465,\n",
       "          0.14054483,  0.04617351]], dtype=float32),\n",
       " array([[-0.08164445, -0.00629799,  0.08259339, ...,  0.13804638,\n",
       "         -0.04283408,  0.10276763],\n",
       "        [ 0.09104592, -0.19086562, -0.03373953, ..., -0.01150041,\n",
       "         -0.08104833, -0.04149487],\n",
       "        [ 0.06014576, -0.16830961, -0.10859863, ..., -0.00413089,\n",
       "         -0.02934633, -0.21237697],\n",
       "        ...,\n",
       "        [ 0.24295117, -0.28033593, -0.34565443, ...,  0.00865652,\n",
       "         -0.00071102, -0.0598196 ],\n",
       "        [ 0.05949762, -0.02806957, -0.03779646, ..., -0.09199933,\n",
       "          0.16113846, -0.15333667],\n",
       "        [-0.10233159, -0.33718327, -0.05607864, ...,  0.02767376,\n",
       "          0.14888574,  0.31642017]], dtype=float32),\n",
       " array([ 0.0096539 , -0.00380729, -0.08678206, -0.02654188,  0.05098265,\n",
       "        -0.02282953, -0.01727766, -0.08162458,  0.00030612, -0.00809563,\n",
       "        -0.0552214 , -0.0339051 , -0.05941097, -0.03575782, -0.02573897,\n",
       "        -0.06336065, -0.06669785,  0.04064117, -0.08043167, -0.04539114,\n",
       "        -0.03335954, -0.01926252,  0.05234739, -0.05313345, -0.07382473,\n",
       "         0.00262106, -0.02570957, -0.05778242,  0.01965447, -0.02681161,\n",
       "        -0.0057129 , -0.0211307 , -0.04918842,  0.04883334,  0.07271966,\n",
       "         0.00101696,  0.04475456,  0.09517615,  0.003341  ,  0.00451714,\n",
       "        -0.08494613, -0.02421153,  0.05683271,  0.00858048,  0.02313551,\n",
       "         0.05389965, -0.06579266, -0.0332853 , -0.05639296, -0.05951316,\n",
       "        -0.01043362, -0.01994207, -0.0038927 ,  0.06644382, -0.01868657,\n",
       "        -0.02450303, -0.04538906, -0.0811323 ,  0.02519818, -0.02747641,\n",
       "         0.0388641 ,  0.00417214,  0.04299591,  0.02290592], dtype=float32),\n",
       " array([[-0.27943054],\n",
       "        [ 0.02836434],\n",
       "        [-0.2619817 ],\n",
       "        [-0.03469696],\n",
       "        [ 0.1616578 ],\n",
       "        [ 0.20391455],\n",
       "        [-0.12731434],\n",
       "        [-0.12714039],\n",
       "        [-0.0404841 ],\n",
       "        [-0.19640626],\n",
       "        [ 0.08037841],\n",
       "        [ 0.21579039],\n",
       "        [ 0.01272155],\n",
       "        [-0.36071205],\n",
       "        [ 0.01141888],\n",
       "        [-0.18693727],\n",
       "        [ 0.027928  ],\n",
       "        [ 0.19712156],\n",
       "        [-0.23439509],\n",
       "        [ 0.29091096],\n",
       "        [-0.03448131],\n",
       "        [-0.23626368],\n",
       "        [ 0.19411421],\n",
       "        [-0.04992096],\n",
       "        [-0.2435793 ],\n",
       "        [-0.37532014],\n",
       "        [ 0.12432333],\n",
       "        [-0.12541926],\n",
       "        [ 0.17674181],\n",
       "        [ 0.06450218],\n",
       "        [-0.27371755],\n",
       "        [-0.08217892],\n",
       "        [ 0.00599417],\n",
       "        [ 0.22215861],\n",
       "        [-0.2774287 ],\n",
       "        [-0.05770053],\n",
       "        [ 0.540105  ],\n",
       "        [-0.3965096 ],\n",
       "        [-0.19731356],\n",
       "        [ 0.24198924],\n",
       "        [-0.03630935],\n",
       "        [ 0.00568974],\n",
       "        [ 0.24148576],\n",
       "        [ 0.16960576],\n",
       "        [-0.19434282],\n",
       "        [ 0.2113873 ],\n",
       "        [-0.26647827],\n",
       "        [ 0.14060727],\n",
       "        [-0.08523609],\n",
       "        [-0.11379176],\n",
       "        [-0.14517967],\n",
       "        [ 0.18398076],\n",
       "        [ 0.24236658],\n",
       "        [-0.17344815],\n",
       "        [-0.25152218],\n",
       "        [-0.29582298],\n",
       "        [-0.14256823],\n",
       "        [ 0.26155353],\n",
       "        [ 0.07289492],\n",
       "        [-0.31507093],\n",
       "        [-0.26258078],\n",
       "        [ 0.15687758],\n",
       "        [ 0.15247959],\n",
       "        [-0.02534683]], dtype=float32),\n",
       " array([0.05374445], dtype=float32)]"
      ]
     },
     "execution_count": 4,
     "metadata": {},
     "output_type": "execute_result"
    }
   ],
   "source": [
    "model.get_weights()"
   ]
  },
  {
   "cell_type": "markdown",
   "metadata": {},
   "source": [
    "### 2. Helper Functions\n",
    "To make the model more user-friendly, I created helper functions for decoding reviews and preprocessing user input.\n",
    "\n",
    "The first function decodes encoded reviews back into readable text."
   ]
  },
  {
   "cell_type": "code",
   "execution_count": 5,
   "metadata": {},
   "outputs": [],
   "source": [
    "# Function to decode reviews\n",
    "def decode_review(encoded_review):\n",
    "    return ' '.join([reverse_word_index.get(i - 3, '?') for i in encoded_review])"
   ]
  },
  {
   "cell_type": "markdown",
   "metadata": {},
   "source": [
    "The second function preprocesses text input by encoding the words and padding the sequence to match the model's input requirements."
   ]
  },
  {
   "cell_type": "code",
   "execution_count": 6,
   "metadata": {},
   "outputs": [],
   "source": [
    "# Function to preprocess user input\n",
    "def preprocess_text(text):\n",
    "    words = text.lower().split()\n",
    "    encoded_review = [word_index.get(word, 2) + 3 for word in words]\n",
    "    padded_review = sequence.pad_sequences([encoded_review], maxlen=500)\n",
    "    return padded_review"
   ]
  },
  {
   "cell_type": "markdown",
   "metadata": {},
   "source": [
    "### 3. Prediction Function\n",
    "I have written a function that uses the preprocessed input to predict the sentiment of a review. The function returns both the sentiment (Positive/Negative) and the prediction score."
   ]
  },
  {
   "cell_type": "code",
   "execution_count": 7,
   "metadata": {},
   "outputs": [],
   "source": [
    "# Prediction function\n",
    "def predict_sentiment(review):\n",
    "    preprocessed_input = preprocess_text(review)\n",
    "    prediction = model.predict(preprocessed_input)\n",
    "\n",
    "    sentiment = 'Positive' if prediction[0][0] > 0.5 else 'Negative'\n",
    "    return sentiment, prediction[0][0]"
   ]
  },
  {
   "cell_type": "markdown",
   "metadata": {},
   "source": [
    "### 4. User Input and Prediction\n",
    "Now, let's test the prediction function with an example movie review. The review's sentiment and prediction score will be printed."
   ]
  },
  {
   "cell_type": "code",
   "execution_count": 8,
   "metadata": {},
   "outputs": [
    {
     "name": "stdout",
     "output_type": "stream",
     "text": [
      "1/1 [==============================] - 1s 875ms/step\n",
      "Review: Fantastic movie! Great acting and a thrilling plot kept me hooked the entire time. Highly recommended!\n",
      "Sentiment: Positive\n",
      "Prediction Score: 0.998945951461792\n"
     ]
    }
   ],
   "source": [
    "# Example positive review for prediction\n",
    "example_review = \"Fantastic movie! Great acting and a thrilling plot kept me hooked the entire time. Highly recommended!\"\n",
    "\n",
    "sentiment, score = predict_sentiment(example_review)\n",
    "\n",
    "print(f'Review: {example_review}')\n",
    "print(f'Sentiment: {sentiment}')\n",
    "print(f'Prediction Score: {score}')"
   ]
  },
  {
   "cell_type": "code",
   "execution_count": 9,
   "metadata": {},
   "outputs": [
    {
     "name": "stdout",
     "output_type": "stream",
     "text": [
      "1/1 [==============================] - 0s 80ms/step\n",
      "Review: Disappointing film with uneven acting and a predictable plot. It failed to engage and left me underwhelmed.\n",
      "Sentiment: Negative\n",
      "Prediction Score: 0.04452497884631157\n"
     ]
    }
   ],
   "source": [
    "# Example negative  review for prediction\n",
    "example_review = \"Disappointing film with uneven acting and a predictable plot. It failed to engage and left me underwhelmed.\"\n",
    "\n",
    "sentiment, score = predict_sentiment(example_review)\n",
    "\n",
    "print(f'Review: {example_review}')\n",
    "print(f'Sentiment: {sentiment}')\n",
    "print(f'Prediction Score: {score}')"
   ]
  }
 ],
 "metadata": {
  "kernelspec": {
   "display_name": "Python 3 (ipykernel)",
   "language": "python",
   "name": "python3"
  },
  "language_info": {
   "codemirror_mode": {
    "name": "ipython",
    "version": 3
   },
   "file_extension": ".py",
   "mimetype": "text/x-python",
   "name": "python",
   "nbconvert_exporter": "python",
   "pygments_lexer": "ipython3",
   "version": "3.11.9"
  }
 },
 "nbformat": 4,
 "nbformat_minor": 4
}
